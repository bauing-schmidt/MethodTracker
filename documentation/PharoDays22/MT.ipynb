{
 "cells": [
  {
   "cell_type": "markdown",
   "id": "f96670de",
   "metadata": {
    "slideshow": {
     "slide_type": "slide"
    }
   },
   "source": [
    "<center>\n",
    "    <h1>Method trackers</h1>\n",
    "    <h2>and their diagrams</h2>\n",
    "    <br>\n",
    "    <b>Massimo Nocentini</b><br>\n",
    "    PharoDays22, Lille, March 4 2022.\n",
    "</center>"
   ]
  },
  {
   "cell_type": "markdown",
   "id": "572d2a0b",
   "metadata": {
    "slideshow": {
     "slide_type": "slide"
    }
   },
   "source": [
    "- yet another instrumentation tool for debugging, tracing and inspecting execution flow;\n",
    "- strongly inspired by https://github.com/pharo-contributions/MethodProxies.\n",
    "\n",
    "First, it catches the *send* relation among `Context`s in a tree $\\mathcal{T}$, $$(a, b) \\in \\mathcal{T} \\leftrightarrow sender(a) = b$$ where both $a$ and $b$ are `Context`s."
   ]
  },
  {
   "cell_type": "markdown",
   "id": "a69d5490",
   "metadata": {
    "slideshow": {
     "slide_type": "slide"
    }
   },
   "source": [
    "Second, it presents $\\mathcal{T}$ in a `SpecPresenter` composed according to:\n",
    "  - a top-left pane with a `SpTreePresenter` showing the caught sends;\n",
    "  - a bottom-left pane with a `SpTablePresenter` showing statistics for each tracked method;\n",
    "  - a right pane with a `SpRoassalPresenter` showing the corresponding *UML sequence diagram*."
   ]
  },
  {
   "cell_type": "markdown",
   "id": "32121a8d",
   "metadata": {
    "slideshow": {
     "slide_type": "slide"
    }
   },
   "source": [
    "For the **tracking**:\n",
    "  - a tower of *handlers* manages pre, *in* and post actions for each tracked message send;\n",
    "  - a *tracker* object is actually installed in `MethodDictionary`ies to track <br>\n",
    "    the original execution, possibly decorated by handlers;\n",
    "  - a *session* object knows the set of `CompiledMethod`s subject of investigation<br> \n",
    "    and it ensures that *the tracking code doesn't track itself*.\n"
   ]
  },
  {
   "cell_type": "markdown",
   "id": "ecddf1ce",
   "metadata": {
    "slideshow": {
     "slide_type": "slide"
    }
   },
   "source": [
    "For the **drawing**:\n",
    "  - introduces `RSUMLSequenceBuilder`, `RSUMLSequenceDescriptor` and `RSBasicUMLSequenceRenderer`, \n",
    "    according to Roassal's classes;\n",
    "  - almost compliant with UML spec, diverges to ease visualization of receivers, arguments and returns;\n",
    "  - straightforward processing of a `SequenceableCollection` of `RSFullMessageSend` objects."
   ]
  },
  {
   "cell_type": "markdown",
   "id": "6b509a90",
   "metadata": {
    "slideshow": {
     "slide_type": "slide"
    }
   },
   "source": [
    "<center><b>Short demo</b></center>"
   ]
  }
 ],
 "metadata": {
  "celltoolbar": "Slideshow",
  "kernelspec": {
   "display_name": "Python 3 (ipykernel)",
   "language": "python",
   "name": "python3"
  },
  "language_info": {
   "codemirror_mode": {
    "name": "ipython",
    "version": 3
   },
   "file_extension": ".py",
   "mimetype": "text/x-python",
   "name": "python",
   "nbconvert_exporter": "python",
   "pygments_lexer": "ipython3",
   "version": "3.10.0"
  }
 },
 "nbformat": 4,
 "nbformat_minor": 5
}
