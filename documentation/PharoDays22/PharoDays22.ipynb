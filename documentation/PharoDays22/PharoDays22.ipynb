{
 "cells": [
  {
   "cell_type": "markdown",
   "id": "f96670de",
   "metadata": {
    "slideshow": {
     "slide_type": "slide"
    }
   },
   "source": [
    "<center>\n",
    "    <h1>Method trackers</h1>\n",
    "    <h2>and their diagrams</h2>\n",
    "    <br>\n",
    "    <b>Massimo Nocentini</b><br>\n",
    "    PharoDays22, Lille, March 4 2022.<br><br>\n",
    "    <a href=\"https://bauing-schmidt.github.io/MethodTracker/PharoDays22.slides.html\">https://bauing-schmidt.github.io/MethodTracker/PharoDays22.slides.html</a>\n",
    "</center>"
   ]
  },
  {
   "cell_type": "markdown",
   "id": "572d2a0b",
   "metadata": {
    "slideshow": {
     "slide_type": "slide"
    }
   },
   "source": [
    "<h3>implementation</h3>\n",
    "\n",
    "- yet another instrumentation tool for debugging, tracing and inspecting execution flow;\n",
    "- strongly inspired by https://github.com/pharo-contributions/MethodProxies;\n",
    "- strong focus on `Context`s: the *send* relation is caught in a tree $\\mathcal{T}$, $$(a, b) \\in \\mathcal{T} \\leftrightarrow sender(a) = b$$ where both $a$ and $b$ are `Context`s."
   ]
  },
  {
   "cell_type": "markdown",
   "id": "a69d5490",
   "metadata": {
    "slideshow": {
     "slide_type": "slide"
    }
   },
   "source": [
    "<h3>results</h3>\n",
    "\n",
    "The tree $\\mathcal{T}$ in a `SpPresenter` composed according to:\n",
    "  - a top-left pane with a `SpTreePresenter` showing the parents-children;\n",
    "  - a bottom-left pane with a `SpTablePresenter` showing statistics for each tracker;\n",
    "  - a right pane with a `SpRoassalPresenter` showing the *UML sequence diagram*."
   ]
  },
  {
   "cell_type": "markdown",
   "id": "32121a8d",
   "metadata": {
    "slideshow": {
     "slide_type": "slide"
    }
   },
   "source": [
    "<h3>tracking</h3>\n",
    "\n",
    "- a tower of *handlers* manages pre, *in* and post actions for each tracked message send;\n",
    "- a *tracker* object is actually installed in `MethodDictionary`ies to track <br>\n",
    "  the original message, possibly decorated by handlers;\n",
    "- a *session* object knows the set of `CompiledMethod`s subject of investigation<br> \n",
    "  and it ensures that *the tracking code doesn't track itself*."
   ]
  },
  {
   "cell_type": "markdown",
   "id": "ecddf1ce",
   "metadata": {
    "slideshow": {
     "slide_type": "slide"
    }
   },
   "source": [
    "<h3>drawing</h3>\n",
    "\n",
    "- introduces `RSUMLSequenceBuilder`, `RSUMLSequenceDescriptor` and `RSBasicUMLSequenceRenderer`, \n",
    "  according to Roassal's classes;\n",
    "- UML compliant, diverges to ease viz of receivers, arguments and returned objects;\n",
    "- straightforward pass over a `SequenceableCollection` of `RSFullMessageSend` (= `MessageSend` + client) objects."
   ]
  },
  {
   "cell_type": "markdown",
   "id": "6b509a90",
   "metadata": {
    "slideshow": {
     "slide_type": "slide"
    }
   },
   "source": [
    "<h3>demo</h3>"
   ]
  },
  {
   "cell_type": "markdown",
   "id": "38cf567f",
   "metadata": {
    "slideshow": {
     "slide_type": "slide"
    }
   },
   "source": [
    "<h3>refs</h3>\n",
    "\n",
    "- https://github.com/bauing-schmidt/MethodTracker, main repo\n",
    "- https://github.com/bauing-schmidt/Roassal3, fork with UML sequence diagrams\n",
    "- https://github.com/bauing-schmidt/Containers-OrderPreservingTree, $\\mathcal{T}$\n",
    "- https://github.com/bauing-schmidt/Containers-Essentials, utils & deps\n",
    "- https://massimo-nocentini.github.io/Booklet-DSst, docs & more examples"
   ]
  },
  {
   "cell_type": "markdown",
   "id": "51163e44",
   "metadata": {
    "slideshow": {
     "slide_type": "slide"
    }
   },
   "source": [
    "<h3>thank you</h3>"
   ]
  }
 ],
 "metadata": {
  "celltoolbar": "Slideshow",
  "kernelspec": {
   "display_name": "Python 3 (ipykernel)",
   "language": "python",
   "name": "python3"
  },
  "language_info": {
   "codemirror_mode": {
    "name": "ipython",
    "version": 3
   },
   "file_extension": ".py",
   "mimetype": "text/x-python",
   "name": "python",
   "nbconvert_exporter": "python",
   "pygments_lexer": "ipython3",
   "version": "3.10.0"
  }
 },
 "nbformat": 4,
 "nbformat_minor": 5
}
